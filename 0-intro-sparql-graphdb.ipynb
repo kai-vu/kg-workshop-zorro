{
 "cells": [
  {
   "cell_type": "code",
   "execution_count": null,
   "id": "adc4bd65-63bd-40df-88a2-16e39305720a",
   "metadata": {},
   "outputs": [],
   "source": [
    "%load_ext ipython_sparql_pandas\n",
    "from helperFunctions import GraphDB"
   ]
  },
  {
   "cell_type": "markdown",
   "id": "e4b0e011-b672-47fa-a591-b7efd903b6c5",
   "metadata": {},
   "source": [
    "# Create a new repository"
   ]
  },
  {
   "cell_type": "code",
   "execution_count": null,
   "id": "879b90e6-7044-4a96-ac44-5ccf43d91c9c",
   "metadata": {},
   "outputs": [],
   "source": [
    "db = GraphDB()\n",
    "repo_name = 'zorro'\n",
    "print(db.create_repo(repo_name).text)"
   ]
  },
  {
   "cell_type": "markdown",
   "id": "65c9910c-94ce-4664-a2d6-e398990f4ad1",
   "metadata": {},
   "source": [
    "# Load data"
   ]
  },
  {
   "cell_type": "code",
   "execution_count": null,
   "id": "3bc1e963-e997-4ffe-a037-b48aebfea70c",
   "metadata": {},
   "outputs": [],
   "source": [
    "response = db.load_data(repo_name, 'airplane.ttl', \n",
    "          graph_name = \"https://zorro-project.nl/example/AirplaneGraph\")\n",
    "print(response.text)"
   ]
  },
  {
   "cell_type": "code",
   "execution_count": null,
   "id": "95571f06-e2dc-4eb0-84bc-529da5b90559",
   "metadata": {},
   "outputs": [],
   "source": [
    "%%sparql http://localhost:{db.port}/repositories/{repo_name} -s df\n",
    "PREFIX : <https://zorro-project.nl/example/>\n",
    "PREFIX rdfs: <http://www.w3.org/2000/01/rdf-schema#>\n",
    "\n",
    "select * where { \n",
    "\tGRAPH ?graph { ?part rdfs:subClassOf :Component }.\n",
    "} limit 100 "
   ]
  },
  {
   "cell_type": "code",
   "execution_count": null,
   "id": "0e0b4a80-0123-450b-a265-d73b23020519",
   "metadata": {},
   "outputs": [],
   "source": []
  }
 ],
 "metadata": {
  "kernelspec": {
   "display_name": "Python 3 (ipykernel)",
   "language": "python",
   "name": "python3"
  },
  "language_info": {
   "codemirror_mode": {
    "name": "ipython",
    "version": 3
   },
   "file_extension": ".py",
   "mimetype": "text/x-python",
   "name": "python",
   "nbconvert_exporter": "python",
   "pygments_lexer": "ipython3",
   "version": "3.10.10"
  }
 },
 "nbformat": 4,
 "nbformat_minor": 5
}
