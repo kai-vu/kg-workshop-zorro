{
 "cells": [
  {
   "cell_type": "markdown",
   "id": "70072c1c-28bb-49ec-a2c3-8e8d5448a687",
   "metadata": {},
   "source": [
    "# Knowledge Graphs Workshop exercise 3: GPT\n",
    "\n",
    "Task: change the prompt and see if you can make GPT extract more complex problems or actions!"
   ]
  },
  {
   "cell_type": "code",
   "execution_count": null,
   "id": "0f5ec50d-2c7d-42d4-9e31-2cd579994214",
   "metadata": {},
   "outputs": [],
   "source": [
    "import pandas as pd\n",
    "from itables import show\n",
    "df = pd.read_csv('Aircraft_Annotation_DataFile.csv')\n",
    "df.columns = [c.lower() for c in df.columns]\n",
    "df['problem'] = df['problem'].str.strip('.').str.strip()\n",
    "df['action'] = df['action'].str.strip('.').str.strip()\n",
    "show(df)"
   ]
  },
  {
   "cell_type": "code",
   "execution_count": null,
   "id": "038ee4ae-5f46-4b6b-804f-594a5551391e",
   "metadata": {},
   "outputs": [],
   "source": [
    "from openai import OpenAI\n",
    "client = OpenAI(api_key=open('openai-key.txt').read().strip())\n",
    "\n",
    "prompt = \"\"\"You are a Knowledge Extraction system for Airplane Maintenance that outputs \n",
    "valid RDF Turtle syntax. \n",
    "\n",
    "Given records such as:\n",
    "100005,#2 & 4 CYL ROCKER COVER GASKETS ARE LEAKING,REMOVED & REPLACED GASKETS\n",
    "\n",
    "You output something like the following:\n",
    ":problem100005 a :LeakProblem ;\n",
    "    dc:description \"#2 & 4 CYL ROCKER COVER GASKETS ARE LEAKING\" ;\n",
    "    :involvedPart [ a :RockerCoverGasketPart ;\n",
    "            :location \"#2 & 4 CYL\" ] ;\n",
    "    :requiredAction [ a :ReplacedAction ;\n",
    "            dc:description \"REMOVED & REPLACED GASKETS\" ;\n",
    "            :involvedPart [ a :GasketPart ] ] .\n",
    "\"\"\"\n",
    "\n",
    "completion = client.chat.completions.create(\n",
    "  model=\"gpt-3.5-turbo-1106\",\n",
    "  temperature= 0,\n",
    "  messages=[\n",
    "    {\"role\": \"system\", \"content\": prompt},\n",
    "    {\"role\": \"user\", \"content\": ','.join(df.iloc[10].apply(str))}\n",
    "  ]\n",
    ")\n",
    "print(completion.choices[0].message.content)"
   ]
  },
  {
   "cell_type": "code",
   "execution_count": null,
   "id": "24ec3ff4-8c69-4847-82f3-4754755189c8",
   "metadata": {},
   "outputs": [],
   "source": []
  }
 ],
 "metadata": {
  "kernelspec": {
   "display_name": "Python 3 (ipykernel)",
   "language": "python",
   "name": "python3"
  },
  "language_info": {
   "codemirror_mode": {
    "name": "ipython",
    "version": 3
   },
   "file_extension": ".py",
   "mimetype": "text/x-python",
   "name": "python",
   "nbconvert_exporter": "python",
   "pygments_lexer": "ipython3",
   "version": "3.10.10"
  }
 },
 "nbformat": 4,
 "nbformat_minor": 5
}
